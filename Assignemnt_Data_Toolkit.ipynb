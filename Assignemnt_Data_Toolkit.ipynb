{
  "nbformat": 4,
  "nbformat_minor": 0,
  "metadata": {
    "colab": {
      "provenance": []
    },
    "kernelspec": {
      "name": "python3",
      "display_name": "Python 3"
    },
    "language_info": {
      "name": "python"
    }
  },
  "cells": [
    {
      "cell_type": "markdown",
      "source": [
        "**Data Toolkit**"
      ],
      "metadata": {
        "id": "C6p0sVP1Ph4w"
      }
    },
    {
      "cell_type": "markdown",
      "source": [
        "1. What is NumPy, and why is it widely used in Python?\n",
        "- NumPy stands for Numerical Python. It is a very popular Python library used for working with arrays. It also has a lot of functions for performing mathematical and statistical operations easily and efficiently.\n",
        "\n",
        "2. How does broadcasting work in NumPy?\n",
        "- NumPy broadcasting is a feature that allows arrays with different shapes to be operated on together. It does this by automatically expanding the smaller array to match the shape of the larger one, without the need for explicit looping.\n",
        "\n",
        "3. What is a Pandas DataFrame?\n",
        "- A Pandas DataFrame is a two-dimensional, size-mutable, and potentially heterogeneous tabular data structure with labeled axes (rows and columns). It is similar to a table in a spreadsheet or a SQL database.\n",
        "\n",
        "4. Explain the use of the groupby() method in Pandas.\n",
        "- The GroupBy operation in Pandas is a powerful tool that allows you to split your data into separate groups based on some criteria, apply a function to each group independently, and then combine the results. This operation is inspired by the SQL GROUP BY clause and is fundamental to data aggregation and analysis.\n",
        "\n",
        "5. Why is Seaborn preferred for statistical visualizations?\n",
        "- The power of Seaborn lies in its ability to seamlessly integrate with pandas, one of Python's most popular libraries for data manipulation. This integration allows users to visualize pandas DataFrames directly, making the transition from data analysis to data visualization incredibly smooth.\n",
        "\n",
        "6. What are the differences between NumPy arrays and Python lists?\n",
        "- Here are the key differences between NumPy arrays and Python lists:\n",
        "Data Type:\n",
        "NumPy Arrays:\n",
        "These are homogeneous, meaning they can only hold elements of the same data type (e.g., all integers, all floats, or all strings). This restriction allows for more efficient storage and mathematical operations.\n",
        "Python Lists:\n",
        "These are heterogeneous and can store elements of different data types within the same list (e.g., integers, floats, strings, and even other lists). This provides flexibility but can be less efficient for numerical computations.\n",
        "\n",
        "7. What is a heatmap, and when should it be used?\n",
        "- A heatmap is a visual representation of data using color variations to depict the frequency or intensity of values across a two-dimensional space. It's a powerful tool for understanding patterns, distributions, and correlations within datasets.\n",
        "\n",
        "8. What does the term “vectorized operation” mean in NumPy?\n",
        "- Vectorized operations in NumPy enable the use of efficient, pre-compiled functions and mathematical operations on NumPy arrays and data sequences.\n",
        "\n",
        "9. How does Matplotlib differ from Plotly?\n",
        "- While still highly customizable, Plotly's real strength lies in interactivity and web-based visuals.\n",
        "\n",
        "10. What is the significance of hierarchical indexing in Pandas?\n",
        "- Hierarchical indexing, also known as MultiIndexing, is a powerful feature in Pandas that allows you to have multiple levels of indexing on an axis (row or column). It enables you to represent higher-dimensional data within lower-dimensional structures like Series (1D) and DataFrames (2D). Here's a breakdown of its significance.\n",
        "\n",
        "11.  What is the role of Seaborn’s pairplot() function?\n",
        "- The pairplot() function in Seaborn is used to visualize pairwise relationships between variables in a dataset.\n",
        "\n",
        "12. What is the purpose of the describe() function in Pandas?\n",
        "- The describe() function in Pandas is used to generate descriptive statistics of a DataFrame or Series.\n",
        "\n",
        "13. Why is handling missing data important in Pandas?\n",
        "- Handling missing data in Pandas is important for several reasons:\n",
        "Data Integrity: Missing values can lead to inaccurate analysis and misleading conclusions. If not addressed, they can introduce bias and skew results.\n",
        "Algorithm Compatibility: Many machine learning algorithms cannot handle missing data. Preprocessing steps are needed to ensure compatibility and prevent errors.\n",
        "\n",
        "14. What are the benefits of using Plotly for data visualization?\n",
        "- The main benefits of Plotly Express include: Ease of Use.\n",
        "\n",
        "15. How does NumPy handle multidimensional arrays?\n",
        "- NumPy handles multidimensional arrays, also known as ndarrays, by storing the data in a contiguous block of memory, similar to a one-dimensional array. However, NumPy uses metadata to interpret this block of memory as having multiple dimensions. This metadata includes the shape of the array, which defines the size of each dimension, and the strides, which specify how many bytes to move in memory to access the next element along each dimension.\n",
        "\n",
        "16. What is the role of Bokeh in data visualization?\n",
        "- Bokeh is a Python library that plays a crucial role in data visualization by enabling the creation of interactive and dynamic plots and dashboards for web browsers.\n",
        "\n",
        "17. Explain the difference between apply() and map() in Pandas.\n",
        "- apply() and map() are both methods in Pandas used for applying functions to data, but they operate on different objects and in different ways.\n",
        "map()\n",
        "Applies to: Pandas Series objects.\n",
        "Operation: Transforms each element in the Series using a function, dictionary, or another Series.\n",
        "Purpose: Primarily used for element-wise transformations and substitutions.\n",
        "Flexibility: Limited to Series and performs simple operations on each element.\n",
        "Speed: Generally faster for Series transformations.\n",
        "\n",
        " apply()\n",
        "Applies to:\n",
        "Pandas Series and DataFrame objects.\n",
        "Operation:\n",
        "Applies a function along an axis of the DataFrame (rows or columns) or to each element of a Series.\n",
        "Purpose:\n",
        "Used for complex operations, where you need to access multiple columns or rows.\n",
        "Flexibility:\n",
        "More versatile, allowing access to entire rows or columns when applied to DataFrames.\n",
        "Speed:\n",
        "Can be slower for simple element-wise operations, as it does not take advantage of multiple CPU cores.\n",
        "\n",
        "18. A What are some advanced features of NumPy?\n",
        "- Broadcasting: This allows NumPy to perform operations on arrays of different shapes by automatically aligning their dimensions, streamlining computations and reducing code complexity.\n",
        "\n",
        "19. How does Pandas simplify time series analysis?\n",
        "- Pandas simplifies time series analysis through its specialized data structures and functions. Here's how:\n",
        "\n",
        " Time-Based Indexing:\n",
        "\n",
        " Datetime Objects:\n",
        "\n",
        " Data Structures:\n",
        "\n",
        " Time Series Calculations:\n",
        "\n",
        " Resampling:\n",
        "\n",
        "20. What is the role of a pivot table in Pandas?\n",
        "- The role of a pivot table in Pandas is to reshape and summarize data, making it easier to analyze. It transforms data from a \"long\" format to a \"wide\" format, where certain row values become column headers.\n",
        "\n",
        "21. Why is NumPy’s array slicing faster than Python’s list slicing?\n",
        "- NumPy's array slicing is generally faster than Python's list slicing due to several key differences in how they are implemented and how they handle data:\n",
        "\n",
        " Homogeneous Data Types\n",
        "\n",
        " Contiguous Memory Allocation\n",
        "\n",
        " Optimized C Implementation\n",
        "\n",
        " Vectorization\n",
        "\n",
        " Reduced Overhead\n",
        "\n",
        "22. What are some common use cases for Seaborn?\n",
        "- Seaborn is a Python data visualization library built on top of Matplotlib, primarily used for statistical data visualization. Here are some common use cases:\n",
        "\n",
        " 1. Relationship Analysis:\n",
        " Scatter Plots:\n",
        "\n",
        " Line Plots:\n",
        "\n",
        " Joint Plots:\n",
        "\n",
        " Pair Plots:\n",
        "\n",
        " 2. Distribution Visualization:\n",
        " Histograms:\n",
        "\n",
        " Distribution Plots (Distplot):\n",
        "\n",
        " Violin Plots:\n",
        "\n",
        " Box Plots:"
      ],
      "metadata": {
        "id": "JZjBaNxUPqHo"
      }
    },
    {
      "cell_type": "code",
      "source": [
        "#Practical"
      ],
      "metadata": {
        "id": "-6QM2CGaUZzA"
      },
      "execution_count": 1,
      "outputs": []
    },
    {
      "cell_type": "code",
      "source": [
        "#1.  How do you create a 2D NumPy array and calculate the sum of each row?\n",
        "'''\n",
        "import numpy as np\n",
        "\n",
        "# Example 2D array\n",
        "data = np.array([,,])\n",
        "'''"
      ],
      "metadata": {
        "colab": {
          "base_uri": "https://localhost:8080/",
          "height": 35
        },
        "id": "ylw91qKZW7ci",
        "outputId": "73cc0b3b-ffe0-41c8-cda9-3bf5457d7260"
      },
      "execution_count": 2,
      "outputs": [
        {
          "output_type": "execute_result",
          "data": {
            "text/plain": [
              "'\\nimport numpy as np\\n\\n# Example 2D array\\ndata = np.array([,,])\\n'"
            ],
            "application/vnd.google.colaboratory.intrinsic+json": {
              "type": "string"
            }
          },
          "metadata": {},
          "execution_count": 2
        }
      ]
    },
    {
      "cell_type": "code",
      "source": [
        "#2. 7A Write a Pandas script to find the mean of a specific column in a DataFrame.\n",
        "'''\n",
        "import pandas as pd\n",
        "\n",
        "# Sample DataFrame\n",
        "data = {'col1': [1, 2, 3, 4, 5],\n",
        "        'col2': [6, 7, 8, 9, 10],\n",
        "        'col3': [11, 12, 13, 14, 15]}\n",
        "df = pd.DataFrame(data)\n",
        "\n",
        "# Specify the column for which you want to find the mean\n",
        "column_name = 'col2'\n",
        "\n",
        "# Calculate the mean of the specified column\n",
        "mean_value = df[column_name].mean()\n",
        "\n",
        "# Print the mean value\n",
        "print(f\"The mean of '{column_name}' is: {mean_value}\")\n",
        "'''"
      ],
      "metadata": {
        "colab": {
          "base_uri": "https://localhost:8080/",
          "height": 70
        },
        "id": "GBVsmCOsXFj-",
        "outputId": "67c05d91-3bdd-48e4-b5af-5343bd3c881b"
      },
      "execution_count": 3,
      "outputs": [
        {
          "output_type": "execute_result",
          "data": {
            "text/plain": [
              "'\\nimport pandas as pd\\n\\n# Sample DataFrame\\ndata = {\\'col1\\': [1, 2, 3, 4, 5],\\n        \\'col2\\': [6, 7, 8, 9, 10],\\n        \\'col3\\': [11, 12, 13, 14, 15]}\\ndf = pd.DataFrame(data)\\n\\n# Specify the column for which you want to find the mean\\ncolumn_name = \\'col2\\'\\n\\n# Calculate the mean of the specified column\\nmean_value = df[column_name].mean()\\n\\n# Print the mean value\\nprint(f\"The mean of \\'{column_name}\\' is: {mean_value}\")\\n'"
            ],
            "application/vnd.google.colaboratory.intrinsic+json": {
              "type": "string"
            }
          },
          "metadata": {},
          "execution_count": 3
        }
      ]
    },
    {
      "cell_type": "code",
      "source": [
        "#3. Create a scatter plot using Matplotlib.\n",
        "'''\n",
        "   import matplotlib.pyplot as plt\n",
        "   import numpy as np\n",
        "'''"
      ],
      "metadata": {
        "colab": {
          "base_uri": "https://localhost:8080/",
          "height": 35
        },
        "id": "QqsLFNwoXObw",
        "outputId": "1db4e12c-5a84-4f52-9cf9-cd9c797ee7c6"
      },
      "execution_count": 4,
      "outputs": [
        {
          "output_type": "execute_result",
          "data": {
            "text/plain": [
              "'\\n   import matplotlib.pyplot as plt\\n   import numpy as np\\n'"
            ],
            "application/vnd.google.colaboratory.intrinsic+json": {
              "type": "string"
            }
          },
          "metadata": {},
          "execution_count": 4
        }
      ]
    },
    {
      "cell_type": "code",
      "source": [
        "#4.  How do you calculate the correlation matrix using Seaborn and visualize it with a heatmap?\n",
        "'''\n",
        "import pandas as pd\n",
        "import seaborn as sns\n",
        "import matplotlib.pyplot as plt\n",
        "'''"
      ],
      "metadata": {
        "colab": {
          "base_uri": "https://localhost:8080/",
          "height": 35
        },
        "id": "jGRy0Mi4Xcll",
        "outputId": "f99a8db3-a71c-4b6d-ed94-c546c65eede9"
      },
      "execution_count": 5,
      "outputs": [
        {
          "output_type": "execute_result",
          "data": {
            "text/plain": [
              "'\\nimport pandas as pd\\nimport seaborn as sns\\nimport matplotlib.pyplot as plt\\n'"
            ],
            "application/vnd.google.colaboratory.intrinsic+json": {
              "type": "string"
            }
          },
          "metadata": {},
          "execution_count": 5
        }
      ]
    },
    {
      "cell_type": "code",
      "source": [
        "#5. Generate a bar plot using Plotly.\n",
        "'''\n",
        "import plotly.express as px\n",
        "\n",
        "# Sample data\n",
        "categories = ['A', 'B', 'C', 'D', 'E']\n",
        "values = [15, 22, 18, 12, 28]\n",
        "\n",
        "# Create the bar chart\n",
        "fig = px.bar(x=categories, y=values, title=\"Simple Bar Chart\")\n",
        "\n",
        "# Show the plot\n",
        "fig.show()\n",
        "'''\n"
      ],
      "metadata": {
        "colab": {
          "base_uri": "https://localhost:8080/",
          "height": 53
        },
        "id": "XMbd45vrXks_",
        "outputId": "5dd0c948-413a-420a-8cec-4f1cfbf3ebe4"
      },
      "execution_count": 6,
      "outputs": [
        {
          "output_type": "execute_result",
          "data": {
            "text/plain": [
              "'\\nimport plotly.express as px\\n\\n# Sample data\\ncategories = [\\'A\\', \\'B\\', \\'C\\', \\'D\\', \\'E\\']\\nvalues = [15, 22, 18, 12, 28]\\n\\n# Create the bar chart\\nfig = px.bar(x=categories, y=values, title=\"Simple Bar Chart\")\\n\\n# Show the plot\\nfig.show()\\n'"
            ],
            "application/vnd.google.colaboratory.intrinsic+json": {
              "type": "string"
            }
          },
          "metadata": {},
          "execution_count": 6
        }
      ]
    },
    {
      "cell_type": "code",
      "source": [
        "#6. Create a DataFrame and add a new column based on an existing column.\n",
        "'''\n",
        "import pandas as pd\n",
        "\n",
        "# Create a sample DataFrame\n",
        "data = {'col1': [1, 2, 3, 4],\n",
        "        'col2': [5, 6, 7, 8]}\n",
        "df = pd.DataFrame(data)\n",
        "\n",
        "# Method 1: Using direct assignment\n",
        "df['new_col'] = df['col1'] * 2 # New column is col1 multiplied by 2\n",
        "\n",
        "# Method 2: Using the assign() method\n",
        "df = df.assign(new_col2 = df['col2'] + 10) # Creates a new column col2 + 10\n",
        "\n",
        "# Method 3: Using apply() function\n",
        "df['new_col3'] = df['col1'].apply(lambda x: x*3) # Applies a lambda function to col1\n",
        "\n",
        "# Method 4: Using insert() method\n",
        "df.insert(1, 'new_col4', df['col2'] - 5) # Inserts a new column at index 1 with values of col2 - 5\n",
        "\n",
        "print(df)\n",
        "'''"
      ],
      "metadata": {
        "colab": {
          "base_uri": "https://localhost:8080/",
          "height": 87
        },
        "id": "n5sneEyeXuB6",
        "outputId": "86ae2e5d-9786-4404-a8ab-3d2742b94df7"
      },
      "execution_count": 7,
      "outputs": [
        {
          "output_type": "execute_result",
          "data": {
            "text/plain": [
              "\"\\nimport pandas as pd\\n\\n# Create a sample DataFrame\\ndata = {'col1': [1, 2, 3, 4],\\n        'col2': [5, 6, 7, 8]}\\ndf = pd.DataFrame(data)\\n\\n# Method 1: Using direct assignment\\ndf['new_col'] = df['col1'] * 2 # New column is col1 multiplied by 2\\n\\n# Method 2: Using the assign() method\\ndf = df.assign(new_col2 = df['col2'] + 10) # Creates a new column col2 + 10\\n\\n# Method 3: Using apply() function\\ndf['new_col3'] = df['col1'].apply(lambda x: x*3) # Applies a lambda function to col1\\n\\n# Method 4: Using insert() method\\ndf.insert(1, 'new_col4', df['col2'] - 5) # Inserts a new column at index 1 with values of col2 - 5\\n\\nprint(df)\\n\""
            ],
            "application/vnd.google.colaboratory.intrinsic+json": {
              "type": "string"
            }
          },
          "metadata": {},
          "execution_count": 7
        }
      ]
    },
    {
      "cell_type": "code",
      "source": [
        "#7. Write a program to perform element-wise multiplication of two NumPy arrays.\n",
        "'''\n",
        "import numpy as np\n",
        "\n",
        "# Define two arrays\n",
        "array1 = np.array([1, 2, 3])\n",
        "array2 = np.array([4, 5, 6])\n",
        "\n",
        "# Element-wise multiplication using * operator\n",
        "result_operator = array1 * array2\n",
        "print(\"Element-wise multiplication using *:\", result_operator)\n",
        "\n",
        "# Element-wise multiplication using np.multiply() function\n",
        "result_multiply = np.multiply(array1, array2)\n",
        "print(\"Element-wise multiplication using np.multiply():\", result_multiply)\n",
        "'''\n"
      ],
      "metadata": {
        "colab": {
          "base_uri": "https://localhost:8080/",
          "height": 70
        },
        "id": "NGH5lWESX2GI",
        "outputId": "826c1fd1-72e4-49a8-cdcd-e900136db590"
      },
      "execution_count": 8,
      "outputs": [
        {
          "output_type": "execute_result",
          "data": {
            "text/plain": [
              "'\\nimport numpy as np\\n\\n# Define two arrays\\narray1 = np.array([1, 2, 3])\\narray2 = np.array([4, 5, 6])\\n\\n# Element-wise multiplication using * operator\\nresult_operator = array1 * array2\\nprint(\"Element-wise multiplication using *:\", result_operator)\\n\\n# Element-wise multiplication using np.multiply() function\\nresult_multiply = np.multiply(array1, array2)\\nprint(\"Element-wise multiplication using np.multiply():\", result_multiply)\\n'"
            ],
            "application/vnd.google.colaboratory.intrinsic+json": {
              "type": "string"
            }
          },
          "metadata": {},
          "execution_count": 8
        }
      ]
    },
    {
      "cell_type": "code",
      "source": [
        "#8.  Create a line plot with multiple lines using Matplotlib.\n",
        "'''\n",
        "import matplotlib.pyplot as plt\n",
        "import numpy as np\n",
        "'''"
      ],
      "metadata": {
        "colab": {
          "base_uri": "https://localhost:8080/",
          "height": 35
        },
        "id": "OjG6wDAlX-QE",
        "outputId": "dcabe06b-952b-42e7-f031-7e392e3028b5"
      },
      "execution_count": 9,
      "outputs": [
        {
          "output_type": "execute_result",
          "data": {
            "text/plain": [
              "'\\nimport matplotlib.pyplot as plt\\nimport numpy as np\\n'"
            ],
            "application/vnd.google.colaboratory.intrinsic+json": {
              "type": "string"
            }
          },
          "metadata": {},
          "execution_count": 9
        }
      ]
    },
    {
      "cell_type": "code",
      "source": [
        "#9. A Generate a Pandas DataFrame and filter rows where a column value is greater than a threshold.\n",
        "'''\n",
        "import pandas as pd\n",
        "\n",
        "# Create a sample DataFrame\n",
        "data = {'col1': [1, 2, 3, 4, 5],\n",
        "        'col2': [6, 7, 8, 9, 10]}\n",
        "df = pd.DataFrame(data)\n",
        "\n",
        "# Define the threshold\n",
        "threshold = 3\n",
        "\n",
        "# Filter rows where 'col1' is greater than the threshold\n",
        "filtered_df = df[df['col1'] > threshold]\n",
        "\n",
        "# Print the filtered DataFrame\n",
        "print(filtered_df)\n",
        "'''"
      ],
      "metadata": {
        "colab": {
          "base_uri": "https://localhost:8080/",
          "height": 70
        },
        "id": "UuGzQb7IYIaY",
        "outputId": "03355e38-eb38-4c0e-f0ba-aab6d66ee4ad"
      },
      "execution_count": 10,
      "outputs": [
        {
          "output_type": "execute_result",
          "data": {
            "text/plain": [
              "\"\\nimport pandas as pd\\n\\n# Create a sample DataFrame\\ndata = {'col1': [1, 2, 3, 4, 5],\\n        'col2': [6, 7, 8, 9, 10]}\\ndf = pd.DataFrame(data)\\n\\n# Define the threshold\\nthreshold = 3\\n\\n# Filter rows where 'col1' is greater than the threshold\\nfiltered_df = df[df['col1'] > threshold]\\n\\n# Print the filtered DataFrame\\nprint(filtered_df)\\n\""
            ],
            "application/vnd.google.colaboratory.intrinsic+json": {
              "type": "string"
            }
          },
          "metadata": {},
          "execution_count": 10
        }
      ]
    },
    {
      "cell_type": "code",
      "source": [
        "#10. Create a histogram using Seaborn to visualize a distribution.\n",
        "'''\n",
        "import seaborn as sns\n",
        "import matplotlib.pyplot as plt\n",
        "import numpy as np\n",
        "'''\n"
      ],
      "metadata": {
        "colab": {
          "base_uri": "https://localhost:8080/",
          "height": 35
        },
        "id": "CFPraFqFYQZb",
        "outputId": "48bb6e2f-6222-4676-e87e-4878c9486475"
      },
      "execution_count": 11,
      "outputs": [
        {
          "output_type": "execute_result",
          "data": {
            "text/plain": [
              "'\\nimport seaborn as sns\\nimport matplotlib.pyplot as plt\\nimport numpy as np\\n'"
            ],
            "application/vnd.google.colaboratory.intrinsic+json": {
              "type": "string"
            }
          },
          "metadata": {},
          "execution_count": 11
        }
      ]
    },
    {
      "cell_type": "code",
      "source": [
        "#11. Perform matrix multiplication using NumPy.\n",
        "'''\n",
        "    import numpy as np\n",
        "\n",
        "    matrix1 = np.array([[1, 2], [3, 4]])\n",
        "    matrix2 = np.array([[5, 6], [7, 8]])\n",
        "    result = np.dot(matrix1, matrix2)\n",
        "    print(result)\n",
        "'''"
      ],
      "metadata": {
        "colab": {
          "base_uri": "https://localhost:8080/",
          "height": 53
        },
        "id": "voEf_XR8YiFh",
        "outputId": "99c5d891-dd7a-4e5e-d7ed-ce14c4244075"
      },
      "execution_count": 12,
      "outputs": [
        {
          "output_type": "execute_result",
          "data": {
            "text/plain": [
              "'\\n    import numpy as np\\n\\n    matrix1 = np.array([[1, 2], [3, 4]])\\n    matrix2 = np.array([[5, 6], [7, 8]])\\n    result = np.dot(matrix1, matrix2)\\n    print(result)\\n'"
            ],
            "application/vnd.google.colaboratory.intrinsic+json": {
              "type": "string"
            }
          },
          "metadata": {},
          "execution_count": 12
        }
      ]
    },
    {
      "cell_type": "code",
      "source": [
        "#12. Use Pandas to load a CSV file and display its first 5 rows.\n",
        "'''\n",
        "import pandas as pd\n",
        "\n",
        "# Load the CSV file into a DataFrame\n",
        "df = pd.read_csv('your_file.csv')\n",
        "\n",
        "# Display the first 5 rows\n",
        "print(df.head())\n",
        "'''"
      ],
      "metadata": {
        "colab": {
          "base_uri": "https://localhost:8080/",
          "height": 35
        },
        "id": "W2fKKHhpYrGV",
        "outputId": "f8529785-2a4b-48bd-a03e-d5ae23d0cf91"
      },
      "execution_count": 13,
      "outputs": [
        {
          "output_type": "execute_result",
          "data": {
            "text/plain": [
              "\"\\nimport pandas as pd\\n\\n# Load the CSV file into a DataFrame\\ndf = pd.read_csv('your_file.csv')\\n\\n# Display the first 5 rows\\nprint(df.head())\\n\""
            ],
            "application/vnd.google.colaboratory.intrinsic+json": {
              "type": "string"
            }
          },
          "metadata": {},
          "execution_count": 13
        }
      ]
    },
    {
      "cell_type": "code",
      "source": [
        "#13. Create a 3D scatter plot using Plotly.\n",
        "'''\n",
        "import plotly.graph_objects as go\n",
        "import numpy as np\n",
        "\n",
        "# Sample Data\n",
        "np.random.seed(42)\n",
        "x = np.random.rand(100)\n",
        "y = np.random.rand(100)\n",
        "z = np.random.rand(100)\n",
        "\n",
        "# Create the 3D Scatter Plot\n",
        "fig = go.Figure(data=[go.Scatter3d(\n",
        "    x=x,\n",
        "    y=y,\n",
        "    z=z,\n",
        "    mode='markers',\n",
        "    marker=dict(\n",
        "        size=8,\n",
        "        color=z,\n",
        "        colorscale='Viridis',  # Choose a colorscale\n",
        "        opacity=0.8\n",
        "    )\n",
        ")])\n",
        "\n",
        "# Update layout for better visualization\n",
        "fig.update_layout(\n",
        "    title='3D Scatter Plot',\n",
        "    scene=dict(\n",
        "        xaxis_title='X Axis',\n",
        "        yaxis_title='Y Axis',\n",
        "        zaxis_title='Z Axis'\n",
        "    ),\n",
        "    margin=dict(l=0, r=0, b=0, t=50)\n",
        ")\n",
        "\n",
        "fig.show()\n",
        "'''"
      ],
      "metadata": {
        "colab": {
          "base_uri": "https://localhost:8080/",
          "height": 105
        },
        "id": "y0wGgqjMY1oW",
        "outputId": "6d18ced7-a8dc-4d58-bce0-374558f560bc"
      },
      "execution_count": 14,
      "outputs": [
        {
          "output_type": "execute_result",
          "data": {
            "text/plain": [
              "\"\\nimport plotly.graph_objects as go\\nimport numpy as np\\n\\n# Sample Data\\nnp.random.seed(42)\\nx = np.random.rand(100)\\ny = np.random.rand(100)\\nz = np.random.rand(100)\\n\\n# Create the 3D Scatter Plot\\nfig = go.Figure(data=[go.Scatter3d(\\n    x=x,\\n    y=y,\\n    z=z,\\n    mode='markers',\\n    marker=dict(\\n        size=8,\\n        color=z,\\n        colorscale='Viridis',  # Choose a colorscale\\n        opacity=0.8\\n    )\\n)])\\n\\n# Update layout for better visualization\\nfig.update_layout(\\n    title='3D Scatter Plot',\\n    scene=dict(\\n        xaxis_title='X Axis',\\n        yaxis_title='Y Axis',\\n        zaxis_title='Z Axis'\\n    ),\\n    margin=dict(l=0, r=0, b=0, t=50)\\n)\\n\\nfig.show()\\n\""
            ],
            "application/vnd.google.colaboratory.intrinsic+json": {
              "type": "string"
            }
          },
          "metadata": {},
          "execution_count": 14
        }
      ]
    },
    {
      "cell_type": "code",
      "source": [],
      "metadata": {
        "id": "_SDxR6WiY9wT"
      },
      "execution_count": null,
      "outputs": []
    }
  ]
}